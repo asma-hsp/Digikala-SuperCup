{
 "cells": [
  {
   "cell_type": "code",
   "execution_count": 20,
   "id": "d3ad28e7-2481-41f4-b572-ad5a5023920c",
   "metadata": {},
   "outputs": [],
   "source": [
    "import sqlite3\n",
    "import numpy as np\n",
    "import pandas as pd\n",
    "from sqlite3 import Error"
   ]
  },
  {
   "cell_type": "code",
   "execution_count": 27,
   "id": "9be13e6d-3cd0-4399-8acd-81777f243b80",
   "metadata": {},
   "outputs": [],
   "source": [
    "database_path  = '/home/asma/Desktop/Diga Kala/Super cup/Sql/testset/testset.sqlite'"
   ]
  },
  {
   "cell_type": "code",
   "execution_count": 28,
   "id": "c66f10c1-d4d6-4492-b446-f3a87598ded7",
   "metadata": {},
   "outputs": [],
   "source": [
    "def creaet_sqlite_conn(path):\n",
    "    try:\n",
    "        conn = sqlite3.connect(path)\n",
    "    except Error as e:\n",
    "        print(e)\n",
    "        \n",
    "    conn.create_function(\"log2\", 1, np.log2)\n",
    "    \n",
    "    return conn"
   ]
  },
  {
   "cell_type": "code",
   "execution_count": 29,
   "id": "84fa5f72-a165-451b-86c0-b7b2a8dc78db",
   "metadata": {},
   "outputs": [],
   "source": [
    "con = creaet_sqlite_conn(database_path)"
   ]
  },
  {
   "cell_type": "code",
   "execution_count": 30,
   "id": "0e39a1f9-e436-4123-9463-b9664dd6c8a8",
   "metadata": {},
   "outputs": [],
   "source": [
    "def run_query(conn, query):\n",
    "    cursor = conn.cursor()\n",
    "    cursor.execute(query)\n",
    "    rows = cursor.fetchall()\n",
    "    return pd.DataFrame(rows)"
   ]
  },
  {
   "cell_type": "code",
   "execution_count": 31,
   "id": "8f0f3b9d-189a-44dd-9103-4d2c83e9a83c",
   "metadata": {},
   "outputs": [],
   "source": [
    "query_2 = \"\"\" SELECT query, (dcg/ idcg) as ndcg\n",
    "\n",
    "FROM\n",
    "(SELECT query,\n",
    "       sum(click_count/log2(position+1)) as dcg,\n",
    "\t   sum(click_count/log2(right_position+1)) as idcg\n",
    "FROM\n",
    "\t(SELECT *, row_number()over(ORDER by query, click_count DESC) as new_index\n",
    "\tfrom dk_table\n",
    "\tORDER by query, click_count DESC) as sorted_clicks\n",
    "\n",
    "join (SELECT position as right_position , row_number()over(ORDER by query, position) as new_index\n",
    "\t  FROM dk_table\n",
    "\t  ORDER by query, position) as sorted_positions\n",
    "on sorted_clicks.new_index = sorted_positions.new_index\n",
    "\n",
    "GROUP by query) \"\"\""
   ]
  },
  {
   "cell_type": "code",
   "execution_count": 33,
   "id": "6b3ad231-ddef-4bdb-9760-0d421682e0ad",
   "metadata": {},
   "outputs": [],
   "source": [
    "x = run_query(con, query_2)"
   ]
  },
  {
   "cell_type": "code",
   "execution_count": 34,
   "id": "724e7f92-14de-41f0-b507-cd8608456f84",
   "metadata": {},
   "outputs": [
    {
     "data": {
      "text/html": [
       "<div>\n",
       "<style scoped>\n",
       "    .dataframe tbody tr th:only-of-type {\n",
       "        vertical-align: middle;\n",
       "    }\n",
       "\n",
       "    .dataframe tbody tr th {\n",
       "        vertical-align: top;\n",
       "    }\n",
       "\n",
       "    .dataframe thead th {\n",
       "        text-align: right;\n",
       "    }\n",
       "</style>\n",
       "<table border=\"1\" class=\"dataframe\">\n",
       "  <thead>\n",
       "    <tr style=\"text-align: right;\">\n",
       "      <th></th>\n",
       "      <th>0</th>\n",
       "      <th>1</th>\n",
       "    </tr>\n",
       "  </thead>\n",
       "  <tbody>\n",
       "    <tr>\n",
       "      <th>0</th>\n",
       "      <td>405</td>\n",
       "      <td>0.804803</td>\n",
       "    </tr>\n",
       "    <tr>\n",
       "      <th>1</th>\n",
       "      <td>A10s</td>\n",
       "      <td>0.846427</td>\n",
       "    </tr>\n",
       "    <tr>\n",
       "      <th>2</th>\n",
       "      <td>A11</td>\n",
       "      <td>0.848403</td>\n",
       "    </tr>\n",
       "    <tr>\n",
       "      <th>3</th>\n",
       "      <td>A21</td>\n",
       "      <td>0.869239</td>\n",
       "    </tr>\n",
       "    <tr>\n",
       "      <th>4</th>\n",
       "      <td>A30</td>\n",
       "      <td>0.882900</td>\n",
       "    </tr>\n",
       "    <tr>\n",
       "      <th>...</th>\n",
       "      <td>...</td>\n",
       "      <td>...</td>\n",
       "    </tr>\n",
       "    <tr>\n",
       "      <th>995</th>\n",
       "      <td>یخچال اسنوا</td>\n",
       "      <td>0.879829</td>\n",
       "    </tr>\n",
       "    <tr>\n",
       "      <th>996</th>\n",
       "      <td>یخچال دوقلو</td>\n",
       "      <td>0.829705</td>\n",
       "    </tr>\n",
       "    <tr>\n",
       "      <th>997</th>\n",
       "      <td>یخچال ساید</td>\n",
       "      <td>0.857084</td>\n",
       "    </tr>\n",
       "    <tr>\n",
       "      <th>998</th>\n",
       "      <td>یخچال و فریزر</td>\n",
       "      <td>0.844439</td>\n",
       "    </tr>\n",
       "    <tr>\n",
       "      <th>999</th>\n",
       "      <td>یویو</td>\n",
       "      <td>0.871505</td>\n",
       "    </tr>\n",
       "  </tbody>\n",
       "</table>\n",
       "<p>1000 rows × 2 columns</p>\n",
       "</div>"
      ],
      "text/plain": [
       "                 0         1\n",
       "0              405  0.804803\n",
       "1             A10s  0.846427\n",
       "2              A11  0.848403\n",
       "3              A21  0.869239\n",
       "4              A30  0.882900\n",
       "..             ...       ...\n",
       "995    یخچال اسنوا  0.879829\n",
       "996    یخچال دوقلو  0.829705\n",
       "997     یخچال ساید  0.857084\n",
       "998  یخچال و فریزر  0.844439\n",
       "999           یویو  0.871505\n",
       "\n",
       "[1000 rows x 2 columns]"
      ]
     },
     "execution_count": 34,
     "metadata": {},
     "output_type": "execute_result"
    }
   ],
   "source": [
    "x"
   ]
  },
  {
   "cell_type": "code",
   "execution_count": 53,
   "id": "c9d026bf-3534-4fc4-a489-953f4862e68f",
   "metadata": {},
   "outputs": [],
   "source": [
    "query_1 = \"\"\"SELECT query, sum(click_count/log2(position+1))/sum(click_count/log2(sorted_position+1)) as ndcg\n",
    "FROM (\n",
    "\tSELECT query as sorted_position_query, position as sorted_position, click_count as sorted_position_clicks, ROW_NUMBER() OVER(ORDER BY query, position) AS id\n",
    "\tfrom  dk_table\n",
    "\tORDER by query, position) as t1\n",
    "JOIN (\n",
    "\tSELECT *, ROW_NUMBER() OVER(ORDER BY query, click_count DESC) AS id\n",
    "\tfrom dk_table\n",
    "\tORDER by query,  click_count DESC) as t2\n",
    "\n",
    "\ton t2.id = t1.id\n",
    "\tgroup by query\"\"\""
   ]
  },
  {
   "cell_type": "code",
   "execution_count": 54,
   "id": "d0d448c4-0ad6-43bd-b77d-3b8bdf5ae69a",
   "metadata": {},
   "outputs": [],
   "source": [
    "x = run_query(conn, query_1)"
   ]
  },
  {
   "cell_type": "code",
   "execution_count": 55,
   "id": "ef4d81b3-ceaf-4d27-afa1-07bb11cdff3e",
   "metadata": {},
   "outputs": [
    {
     "data": {
      "text/html": [
       "<div>\n",
       "<style scoped>\n",
       "    .dataframe tbody tr th:only-of-type {\n",
       "        vertical-align: middle;\n",
       "    }\n",
       "\n",
       "    .dataframe tbody tr th {\n",
       "        vertical-align: top;\n",
       "    }\n",
       "\n",
       "    .dataframe thead th {\n",
       "        text-align: right;\n",
       "    }\n",
       "</style>\n",
       "<table border=\"1\" class=\"dataframe\">\n",
       "  <thead>\n",
       "    <tr style=\"text-align: right;\">\n",
       "      <th></th>\n",
       "      <th>0</th>\n",
       "      <th>1</th>\n",
       "    </tr>\n",
       "  </thead>\n",
       "  <tbody>\n",
       "    <tr>\n",
       "      <th>0</th>\n",
       "      <td>405</td>\n",
       "      <td>0.804803</td>\n",
       "    </tr>\n",
       "    <tr>\n",
       "      <th>1</th>\n",
       "      <td>A10s</td>\n",
       "      <td>0.846427</td>\n",
       "    </tr>\n",
       "    <tr>\n",
       "      <th>2</th>\n",
       "      <td>A11</td>\n",
       "      <td>0.848403</td>\n",
       "    </tr>\n",
       "    <tr>\n",
       "      <th>3</th>\n",
       "      <td>A21</td>\n",
       "      <td>0.869239</td>\n",
       "    </tr>\n",
       "    <tr>\n",
       "      <th>4</th>\n",
       "      <td>A30</td>\n",
       "      <td>0.882900</td>\n",
       "    </tr>\n",
       "    <tr>\n",
       "      <th>...</th>\n",
       "      <td>...</td>\n",
       "      <td>...</td>\n",
       "    </tr>\n",
       "    <tr>\n",
       "      <th>995</th>\n",
       "      <td>یخچال اسنوا</td>\n",
       "      <td>0.879829</td>\n",
       "    </tr>\n",
       "    <tr>\n",
       "      <th>996</th>\n",
       "      <td>یخچال دوقلو</td>\n",
       "      <td>0.829705</td>\n",
       "    </tr>\n",
       "    <tr>\n",
       "      <th>997</th>\n",
       "      <td>یخچال ساید</td>\n",
       "      <td>0.857084</td>\n",
       "    </tr>\n",
       "    <tr>\n",
       "      <th>998</th>\n",
       "      <td>یخچال و فریزر</td>\n",
       "      <td>0.844439</td>\n",
       "    </tr>\n",
       "    <tr>\n",
       "      <th>999</th>\n",
       "      <td>یویو</td>\n",
       "      <td>0.871505</td>\n",
       "    </tr>\n",
       "  </tbody>\n",
       "</table>\n",
       "<p>1000 rows × 2 columns</p>\n",
       "</div>"
      ],
      "text/plain": [
       "                 0         1\n",
       "0              405  0.804803\n",
       "1             A10s  0.846427\n",
       "2              A11  0.848403\n",
       "3              A21  0.869239\n",
       "4              A30  0.882900\n",
       "..             ...       ...\n",
       "995    یخچال اسنوا  0.879829\n",
       "996    یخچال دوقلو  0.829705\n",
       "997     یخچال ساید  0.857084\n",
       "998  یخچال و فریزر  0.844439\n",
       "999           یویو  0.871505\n",
       "\n",
       "[1000 rows x 2 columns]"
      ]
     },
     "execution_count": 55,
     "metadata": {},
     "output_type": "execute_result"
    }
   ],
   "source": [
    "x"
   ]
  },
  {
   "cell_type": "code",
   "execution_count": 28,
   "id": "9523cf88-7f9c-47aa-927b-0f3a03035bdc",
   "metadata": {},
   "outputs": [
    {
     "name": "stdout",
     "output_type": "stream",
     "text": [
      "[]\n"
     ]
    }
   ],
   "source": [
    "cursor = conn.cursor()\n",
    "cursor.execute(\"SELECT name FROM sqlite_master WHERE type='table';\")\n",
    "print(cursor.fetchall())"
   ]
  },
  {
   "cell_type": "code",
   "execution_count": 21,
   "id": "219edad9-abd6-4590-bead-2bc3fa043ea0",
   "metadata": {},
   "outputs": [
    {
     "ename": "OperationalError",
     "evalue": "near \"query\": syntax error",
     "output_type": "error",
     "traceback": [
      "\u001b[0;31m---------------------------------------------------------------------------\u001b[0m",
      "\u001b[0;31mOperationalError\u001b[0m                          Traceback (most recent call last)",
      "\u001b[0;32m<ipython-input-21-b83cd773a22a>\u001b[0m in \u001b[0;36m<module>\u001b[0;34m\u001b[0m\n\u001b[1;32m      1\u001b[0m \u001b[0mcursor\u001b[0m \u001b[0;34m=\u001b[0m \u001b[0mconn\u001b[0m\u001b[0;34m.\u001b[0m\u001b[0mcursor\u001b[0m\u001b[0;34m(\u001b[0m\u001b[0;34m)\u001b[0m\u001b[0;34m\u001b[0m\u001b[0;34m\u001b[0m\u001b[0m\n\u001b[0;32m----> 2\u001b[0;31m \u001b[0mcursor\u001b[0m\u001b[0;34m.\u001b[0m\u001b[0mexecute\u001b[0m\u001b[0;34m(\u001b[0m\u001b[0;34m\"select query, agg_array(click_count), agg_array(positions) from dk_table groupby query;\"\u001b[0m\u001b[0;34m)\u001b[0m\u001b[0;34m\u001b[0m\u001b[0;34m\u001b[0m\u001b[0m\n\u001b[0m\u001b[1;32m      3\u001b[0m \u001b[0mrows\u001b[0m \u001b[0;34m=\u001b[0m \u001b[0mcursor\u001b[0m\u001b[0;34m.\u001b[0m\u001b[0mfetchall\u001b[0m\u001b[0;34m(\u001b[0m\u001b[0;34m)\u001b[0m\u001b[0;34m\u001b[0m\u001b[0;34m\u001b[0m\u001b[0m\n\u001b[1;32m      4\u001b[0m \u001b[0mrows\u001b[0m\u001b[0;34m[\u001b[0m\u001b[0;36m0\u001b[0m\u001b[0;34m:\u001b[0m\u001b[0;36m5\u001b[0m\u001b[0;34m]\u001b[0m\u001b[0;34m\u001b[0m\u001b[0;34m\u001b[0m\u001b[0m\n",
      "\u001b[0;31mOperationalError\u001b[0m: near \"query\": syntax error"
     ]
    }
   ],
   "source": [
    "cursor = conn.cursor()\n",
    "cursor.execute(\"select query, agg_array(click_count), agg_array(positions) from dk_table groupby query;\")\n",
    "rows = cursor.fetchall()\n",
    "rows[0:5]"
   ]
  },
  {
   "cell_type": "code",
   "execution_count": 7,
   "id": "43277877-7a1d-4e2d-9936-84410315f25b",
   "metadata": {},
   "outputs": [
    {
     "name": "stdout",
     "output_type": "stream",
     "text": [
      "index\n",
      "query\n",
      "click_count\n",
      "position\n"
     ]
    }
   ],
   "source": [
    "data=cursor.execute('''SELECT * FROM dk_table''')\n",
    "for column in data.description:\n",
    "    print(column[0])"
   ]
  },
  {
   "cell_type": "code",
   "execution_count": 8,
   "id": "df8fbf94-ccea-4d6f-a272-e00c7ac2a660",
   "metadata": {},
   "outputs": [],
   "source": [
    "data = pd.DataFrame(rows, columns=['index', 'query', 'click_count', 'position'])"
   ]
  },
  {
   "cell_type": "code",
   "execution_count": 10,
   "id": "fa8b9821-4a6d-4ea1-b121-e280c38acba6",
   "metadata": {
    "tags": []
   },
   "outputs": [],
   "source": [
    "def compute_ndcg_for_dataset(dataset):\n",
    "    df = dataset.groupby('query').agg({'click_count':lambda x: x.tolist(),'position':lambda x: x.tolist()})\n",
    "    df['ndcg'] = df.apply(lambda x: compute_ndcg_per_query(x['click_count'],x['position']),axis=1)\n",
    "    df = df.reset_index()\n",
    "    return df[['query','ndcg']]\n",
    "\n",
    "def compute_ndcg_per_query(clicks,position):\n",
    "    if len(clicks)!= len(position):\n",
    "        raise ValueError(\"clicks and positions len should be equal\")\n",
    "    dcg_list = np.array(clicks)/np.log2(np.array(position)+1)\n",
    "    idcg_list = np.array(sorted(clicks,reverse=True))/np.log2(np.array(position)+1)\n",
    "    dcg = np.sum(dcg_list)\n",
    "    idcg = np.sum(idcg_list)\n",
    "    return dcg/idcg"
   ]
  },
  {
   "cell_type": "code",
   "execution_count": 11,
   "id": "04d31324-61b2-4db9-8ccd-7a4450ee3054",
   "metadata": {},
   "outputs": [
    {
     "data": {
      "text/html": [
       "<div>\n",
       "<style scoped>\n",
       "    .dataframe tbody tr th:only-of-type {\n",
       "        vertical-align: middle;\n",
       "    }\n",
       "\n",
       "    .dataframe tbody tr th {\n",
       "        vertical-align: top;\n",
       "    }\n",
       "\n",
       "    .dataframe thead th {\n",
       "        text-align: right;\n",
       "    }\n",
       "</style>\n",
       "<table border=\"1\" class=\"dataframe\">\n",
       "  <thead>\n",
       "    <tr style=\"text-align: right;\">\n",
       "      <th></th>\n",
       "      <th>query</th>\n",
       "      <th>ndcg</th>\n",
       "    </tr>\n",
       "  </thead>\n",
       "  <tbody>\n",
       "    <tr>\n",
       "      <th>0</th>\n",
       "      <td>405</td>\n",
       "      <td>0.804803</td>\n",
       "    </tr>\n",
       "    <tr>\n",
       "      <th>1</th>\n",
       "      <td>A10s</td>\n",
       "      <td>0.846427</td>\n",
       "    </tr>\n",
       "    <tr>\n",
       "      <th>2</th>\n",
       "      <td>A11</td>\n",
       "      <td>0.848403</td>\n",
       "    </tr>\n",
       "    <tr>\n",
       "      <th>3</th>\n",
       "      <td>A21</td>\n",
       "      <td>0.869239</td>\n",
       "    </tr>\n",
       "    <tr>\n",
       "      <th>4</th>\n",
       "      <td>A30</td>\n",
       "      <td>0.882900</td>\n",
       "    </tr>\n",
       "    <tr>\n",
       "      <th>...</th>\n",
       "      <td>...</td>\n",
       "      <td>...</td>\n",
       "    </tr>\n",
       "    <tr>\n",
       "      <th>995</th>\n",
       "      <td>یخچال اسنوا</td>\n",
       "      <td>0.879829</td>\n",
       "    </tr>\n",
       "    <tr>\n",
       "      <th>996</th>\n",
       "      <td>یخچال دوقلو</td>\n",
       "      <td>0.829705</td>\n",
       "    </tr>\n",
       "    <tr>\n",
       "      <th>997</th>\n",
       "      <td>یخچال ساید</td>\n",
       "      <td>0.857084</td>\n",
       "    </tr>\n",
       "    <tr>\n",
       "      <th>998</th>\n",
       "      <td>یخچال و فریزر</td>\n",
       "      <td>0.844439</td>\n",
       "    </tr>\n",
       "    <tr>\n",
       "      <th>999</th>\n",
       "      <td>یویو</td>\n",
       "      <td>0.871505</td>\n",
       "    </tr>\n",
       "  </tbody>\n",
       "</table>\n",
       "<p>1000 rows × 2 columns</p>\n",
       "</div>"
      ],
      "text/plain": [
       "             query      ndcg\n",
       "0              405  0.804803\n",
       "1             A10s  0.846427\n",
       "2              A11  0.848403\n",
       "3              A21  0.869239\n",
       "4              A30  0.882900\n",
       "..             ...       ...\n",
       "995    یخچال اسنوا  0.879829\n",
       "996    یخچال دوقلو  0.829705\n",
       "997     یخچال ساید  0.857084\n",
       "998  یخچال و فریزر  0.844439\n",
       "999           یویو  0.871505\n",
       "\n",
       "[1000 rows x 2 columns]"
      ]
     },
     "execution_count": 11,
     "metadata": {},
     "output_type": "execute_result"
    }
   ],
   "source": [
    "x = compute_ndcg_for_dataset(data)\n",
    "x"
   ]
  },
  {
   "cell_type": "code",
   "execution_count": 17,
   "id": "28b6907d-7478-4faf-9ccb-bb4c5624f87d",
   "metadata": {},
   "outputs": [],
   "source": [
    "query_1 = 'select query, agg_array(click_count), agg_array(positions) from dk_table groupby query;'"
   ]
  },
  {
   "cell_type": "code",
   "execution_count": null,
   "id": "d5dc9e96-47f0-440e-bc69-758e41ab6e4e",
   "metadata": {},
   "outputs": [],
   "source": []
  }
 ],
 "metadata": {
  "kernelspec": {
   "display_name": "Python 3",
   "language": "python",
   "name": "python3"
  },
  "language_info": {
   "codemirror_mode": {
    "name": "ipython",
    "version": 3
   },
   "file_extension": ".py",
   "mimetype": "text/x-python",
   "name": "python",
   "nbconvert_exporter": "python",
   "pygments_lexer": "ipython3",
   "version": "3.8.10"
  }
 },
 "nbformat": 4,
 "nbformat_minor": 5
}
